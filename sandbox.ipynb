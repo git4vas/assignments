{
 "cells": [
  {
   "cell_type": "code",
   "execution_count": 84,
   "id": "a44a0aed-847e-4dbf-8cf4-d4f5c99a986c",
   "metadata": {},
   "outputs": [
    {
     "name": "stdout",
     "output_type": "stream",
     "text": [
      "Enter text to encrypt > asd\n",
      "Enter a number to shift (will be converted to 0-25) > -1\n"
     ]
    },
    {
     "name": "stdout",
     "output_type": "stream",
     "text": [
      "25\n",
      "The text you entered  is:\n",
      "zrc\n"
     ]
    }
   ],
   "source": [
    "#plaintext = \"programming: Python is fun!\"\n",
    "#i = ord(\"a\")\n",
    "#while chr(i).isalpha():\n",
    "#    plaintext += chr(i)\n",
    "#    i += 1\n",
    "#print(plaintext)\n",
    "#shift = input(\"shift (0-25): \")\n",
    "#while not(shift.isdecimal() and (int(shift)) in range(26)):\n",
    "#    print(shift, \"is not a number between 0 and 25\")\n",
    "\n",
    "plaintext = str.lower(input(\"Enter text to encrypt >\"))\n",
    "shift = (input(\"Enter a number to shift (will be converted to 0-25) >\"))\n",
    "\n",
    "#########while not(type(shift) = int)\n",
    "\n",
    "if int(shift) < 0:\n",
    "    shift = int(shift) + ord(\"z\") - ord(\"a\") + 1\n",
    "else:\n",
    "    while not(shift.isdecimal()):\n",
    "        shift = (input(\"Enter number to shift (will be converted to 0-25) >\"))\n",
    "    shift = int(shift)\n",
    "\n",
    "if shift > ord(\"z\") - ord(\"a\"):\n",
    "    shift = (shift % (1 + ord(\"z\") - ord(\"a\")))\n",
    "\n",
    "    if shift == 0:\n",
    "        result =\"\"\n",
    "    else:\n",
    "        if shift != 1:\n",
    "            s = \"s\"\n",
    "        result = \"shifted by \" + str(shift), \"symbol\" + s\n",
    "\n",
    "i = 0\n",
    "encrypted = \"\"\n",
    "\n",
    "for ltr in plaintext:\n",
    "    if ltr.isalpha():\n",
    "        encrypted += chr((shift + ord(ltr) - ord(\"a\")) % (ord(\"z\") - ord(\"a\") + 1) + ord(\"a\"))\n",
    "    else:\n",
    "        encrypted += ltr\n",
    "    i += 1\n",
    "\n",
    "print(shift)\n",
    "print(\"The text you entered\", result, \"is:\")\n",
    "print(encrypted)"
   ]
  },
  {
   "cell_type": "code",
   "execution_count": 2,
   "id": "4330685b-c9d5-43b0-a59c-0363ae1ece2c",
   "metadata": {},
   "outputs": [],
   "source": [
    "row = \"\"\n",
    "x = 0\n",
    "\n",
    "with open(\"key.txt\") as key:\n",
    "    xy = [int(n) for n in key.readlines()]\n",
    "with open(\"secret.txt\") as secret:\n",
    "    for line in secret:\n",
    "        row += line.strip()\n",
    "with open(\"public.txt\", \"w\") as public:\n",
    "    for col in range(xy[1]):\n",
    "        public.write(row[x:(x+xy[0])])\n",
    "        public.write(\"\\n\")\n",
    "        x += xy[0]"
   ]
  },
  {
   "cell_type": "code",
   "execution_count": 2,
   "id": "c03a2694-0d86-49ef-a196-56826be85d29",
   "metadata": {},
   "outputs": [],
   "source": [
    "# TTT  EEE  sS  TTT \n",
    "#  T   E   S     T  \n",
    "#  T   EE   Ss   T  \n",
    "#  T   E      S  T  \n",
    "#  T   EEE  SS   T  \n",
    "\n",
    "\n",
    "with open(\"key.txt\", \"r\") as file:\n",
    "    lines = file.readlines()\n",
    "    cols = int(lines[0])\n",
    "    rows = int(lines[1])\n",
    "strng = \"\"\n",
    "lst = []\n",
    "col = 0\n",
    "row = 0\n",
    "with open(\"secret.txt\", \"r\") as file:\n",
    "    for line in file:\n",
    "        if cols == col:\n",
    "            col = 0\n",
    "            lst.append(strng + \"\\n\")\n",
    "            strng = \"\"\n",
    "            row += 1\n",
    "        strng += line.strip()\n",
    "        col += 1\n",
    "with open(\"public.txt\", \"w\") as file:\n",
    "    for ls in lst:\n",
    "        file.write(ls)# + \"\\n\")"
   ]
  },
  {
   "cell_type": "code",
   "execution_count": 5,
   "id": "978423ef-20f4-43f6-a855-768b2d79318c",
   "metadata": {},
   "outputs": [],
   "source": [
    "draw = 0\n",
    "win1 = 0\n",
    "win2 = 0\n",
    "\n",
    "with open(\"player1.txt\") as p1:\n",
    "    with open(\"player2.txt\") as p2:\n",
    "        option1 = p1.readlines()\n",
    "        option2 = p2.readlines()\n",
    "        if len(option1) < len(option2):\n",
    "            counter = len(option1)\n",
    "        else:\n",
    "            counter = len(option2)\n",
    "        for n in range(counter):\n",
    "            if option1[n] == option2[n]:\n",
    "                draw += 1 \n",
    "            elif (option1[n] == 'R\\n' and option2[n] == 'S\\n')\\\n",
    "            or (option1[n] == 'P\\n' and option2[n] == 'R\\n')\\\n",
    "            or (option1[n] == 'S\\n' and option2[n] == 'P\\n'):\n",
    "                win1 += 1\n",
    "            else:\n",
    "                win2 += 1\n",
    "\n",
    "wins1 = (\"Player1 wins: \" + str(win1) + \"\\n\")\n",
    "wins2 = (\"Player2 wins: \" + str(win2) + \"\\n\")\n",
    "draws = (\"Draws: \" + str(draw) + \"\\n\")\n",
    "\n",
    "with open(\"result.txt\", \"w\") as output:\n",
    "    output.write(wins1)\n",
    "    output.write(wins2)\n",
    "    output.write(draws)"
   ]
  },
  {
   "cell_type": "code",
   "execution_count": null,
   "id": "73db254f",
   "metadata": {},
   "outputs": [],
   "source": [
    "def get_student_data():\n",
    "    last_name = input(\"l_name\")\n",
    "    first_name = input(\"name\")\n",
    "    student_id = input(\"st_id\")\n",
    "    return (last_name, first_name, student_id)\n",
    "student_data = get_student_data()\n",
    "print(student_data)"
   ]
  },
  {
   "cell_type": "code",
   "execution_count": 8,
   "id": "4245c1ae",
   "metadata": {},
   "outputs": [
    {
     "name": "stdout",
     "output_type": "stream",
     "text": [
      "4.0\n"
     ]
    }
   ],
   "source": [
    "def reaction_path(speed):\n",
    "    return speed * 3 / 10\n",
    "def brake_distance(speed):\n",
    "    return (speed / 10) ** 2\n",
    "def stopping_distance(speed):\n",
    "    return reaction_path(speed) + brake_distance(speed)\n",
    "\n",
    "\n",
    "spd = float(input(\"what speed >\"))\n",
    "print(stopping_distance(spd))"
   ]
  },
  {
   "cell_type": "code",
   "execution_count": 30,
   "id": "fff6b74b",
   "metadata": {},
   "outputs": [
    {
     "name": "stdout",
     "output_type": "stream",
     "text": [
      "python is cool\n"
     ]
    }
   ],
   "source": [
    "# \"a\" at 0 position\n",
    "\n",
    "def calculate_shifts(key_char):\n",
    "    return ord(key_char) - ord(\"a\")\n",
    "\n",
    "def encrypt_letter(char, shift):\n",
    "    if char.isalpha():\n",
    "        return chr((shift + ord(char) - ord(\"a\")) % (ord(\"z\") - ord(\"a\") + 1) + ord(\"a\"))\n",
    "    return char\n",
    "\n",
    "def encrypt_text(text, key):  \n",
    "    i = 0\n",
    "    encrypted_text = \"\"\n",
    "    for char in text:\n",
    "        if key != \"\":\n",
    "            shift = calculate_shifts(key[i%len(key)])\n",
    "        else: shift = 0\n",
    "        encrypted_text += encrypt_letter(char, shift)\n",
    "        i += 1\n",
    "    return encrypted_text\n",
    "\n",
    "\n",
    "plaintext = str.lower(input(\"Enter text to encrypt > \"))\n",
    "#plaintext = \"PyThOn is BeauTiful\".lower()\n",
    "keystring = str.lower(input(\"Enter key to encrypt the text > \"))\n",
    "#keystring = \"RandOm\".lower()\n",
    "#keystring = \"\".lower()\n",
    "print(encrypt_text(plaintext, keystring))\n",
    "#print(encrypt_text(plaintext, keystring) == \"gygkcz if pqrugltgc\")"
   ]
  },
  {
   "cell_type": "code",
   "execution_count": 47,
   "id": "f955da85",
   "metadata": {},
   "outputs": [
    {
     "name": "stdout",
     "output_type": "stream",
     "text": [
      "[]\n"
     ]
    }
   ],
   "source": [
    "def is_prime(n):\n",
    "    \"\"\"\n",
    "    Checks if n is a prime number\n",
    "    \"\"\"\n",
    "    for i in range(2, n):\n",
    "        if n % i == 0:\n",
    "            return False\n",
    "    return True\n",
    "\n",
    "def prime_list(n):\n",
    "    \"\"\"\n",
    "    Makes the list of primes up to n\n",
    "    \"\"\"\n",
    "    primes = []\n",
    "    for i in range(2, n):\n",
    "        if is_prime(i):\n",
    "            primes.append(i)\n",
    "    return primes\n",
    "\n",
    "print(prime_list(int(input(\"Up to which number do you want all prime numbers? \"))))\n"
   ]
  },
  {
   "cell_type": "code",
   "execution_count": 41,
   "id": "d2b2138c",
   "metadata": {},
   "outputs": [
    {
     "name": "stdout",
     "output_type": "stream",
     "text": [
      "[2, 3, 5, 7, 11, 13, 17, 19, 23, 29, 31, 37, 41, 43, 47, 53, 59, 61, 67, 71, 73, 79, 83, 89, 97, 101, 103, 107, 109, 113, 127, 131, 137, 139, 149, 151, 157, 163, 167, 173, 179, 181, 191, 193, 197, 199, 211, 223, 227, 229, 233, 239, 241, 251, 257, 263, 269, 271, 277, 281, 283, 293, 307, 311, 313, 317, 331, 337, 347, 349, 353, 359, 367, 373, 379, 383, 389, 397, 401, 409, 419, 421, 431, 433, 439, 443, 449, 457, 461, 463, 467, 479, 487, 491, 499, 503, 509, 521, 523, 541, 547, 557, 563, 569, 571, 577, 587, 593, 599, 601, 607, 613, 617, 619, 631, 641, 643, 647, 653, 659, 661, 673, 677, 683, 691, 701, 709, 719, 727, 733, 739, 743, 751, 757, 761, 769, 773, 787, 797, 809, 811, 821, 823, 827, 829, 839, 853, 857, 859, 863, 877, 881, 883, 887, 907, 911, 919, 929, 937, 941, 947, 953, 967, 971, 977, 983, 991, 997]\n"
     ]
    }
   ],
   "source": [
    "# TEST\n",
    "\n",
    "number = int(input(\"Up to which number do you want all prime numbers: \"))\n",
    "\n",
    "def is_prime(number):\n",
    "    for i in range(2,number+1,1):\n",
    "        if number == 2 :\n",
    "            return True\n",
    "        if number%i == 0:\n",
    "            if i==number:\n",
    "                return True\n",
    "            return False\n",
    "\n",
    "    return True\n",
    "    \n",
    "lst = []\n",
    "def prime_list(number):\n",
    "    for i in range(2,number+1,1):\n",
    "        if is_prime(i):\n",
    "            lst.append(i)\n",
    "    return lst\n",
    "lst = prime_list(number)\n",
    "print(lst)"
   ]
  },
  {
   "cell_type": "code",
   "execution_count": 49,
   "id": "1bc42dc7",
   "metadata": {},
   "outputs": [
    {
     "name": "stdout",
     "output_type": "stream",
     "text": [
      "4\n",
      "4\n",
      "6\n"
     ]
    }
   ],
   "source": [
    "def f():\n",
    "    print(4)\n",
    "    return 3\n",
    "\n",
    "print(f()+f())"
   ]
  },
  {
   "cell_type": "code",
   "execution_count": 3,
   "id": "31a54fe4",
   "metadata": {},
   "outputs": [
    {
     "name": "stdout",
     "output_type": "stream",
     "text": [
      "Mean: 100.02978143577357 \n",
      " Standard Deviation: 10.198244300562543\n"
     ]
    }
   ],
   "source": [
    "import random as rnd\n",
    "import statistics as stat\n",
    "\n",
    "def gaussian_distribution():\n",
    "    return [rnd.gauss(100, 10) for _ in range(1000)]\n",
    "\n",
    "x = gaussian_distribution()\n",
    "\n",
    "print(\n",
    "    \"Mean:\", stat.mean(x), \"\\n\",\n",
    "    \"Standard Deviation:\", stat.stdev(x)\n",
    ")"
   ]
  },
  {
   "cell_type": "code",
   "execution_count": null,
   "id": "788296b8",
   "metadata": {},
   "outputs": [],
   "source": [
    "import requests as r\n",
    "search_result = {}\n",
    "search_term = input(\"Please enter a search term:\")\n",
    "search_result = r.get(f\"https://itunes.apple.com/search?term={search_term}&entity=album\").json()\n",
    "\n",
    "print(\"The search returned\", search_result[\"resultCount\"], \"results.\")\n",
    "for entry in search_result[\"results\"]:\n",
    "    print(f\"Artist: {entry['artistName']} - Album: {entry['collectionName']} - Track Count: {entry['trackCount']}\")"
   ]
  },
  {
   "cell_type": "code",
   "execution_count": null,
   "id": "ea716f48",
   "metadata": {},
   "outputs": [],
   "source": [
    "import math\n",
    "print(math.__doc__)\n",
    "#help(math)\n",
    "\n",
    "\n",
    "import requests\n",
    "help(requests)"
   ]
  },
  {
   "cell_type": "code",
   "execution_count": 29,
   "id": "ec040f90",
   "metadata": {},
   "outputs": [
    {
     "name": "stdout",
     "output_type": "stream",
     "text": [
      "0.9494522223503508\n"
     ]
    }
   ],
   "source": [
    "x = []\n",
    "y = []\n",
    "\n",
    "import random\n",
    "for i in range(10000):\n",
    "    x.append(random.random())\n",
    "    y.append(random.random())\n",
    "    "
   ]
  },
  {
   "cell_type": "code",
   "execution_count": 92,
   "id": "56ded18a",
   "metadata": {},
   "outputs": [
    {
     "name": "stdout",
     "output_type": "stream",
     "text": [
      "Calculated value of π: 3.1268\n",
      "Value of π from math library: 3.141592653589793\n",
      "Difference: 0.014792653589793314\n"
     ]
    }
   ],
   "source": [
    "import random\n",
    "from math import pi\n",
    "\n",
    "coordinates = [(random.random(), random.random()) for _ in range(10000)]\n",
    "circle = 0\n",
    "\n",
    "for i in range(10000):\n",
    "    if (coordinates[i][0]**2 + coordinates[i][1]**2) <= 1:\n",
    "        circle += 1\n",
    "\n",
    "pi_calc = circle / 10000 * 4\n",
    "print(\"Calculated value of π:\", pi_calc)\n",
    "print(\"Value of π from math library:\", pi)\n",
    "print(\"Difference:\", pi - pi_calc)"
   ]
  },
  {
   "cell_type": "code",
   "execution_count": null,
   "id": "bddd2982",
   "metadata": {},
   "outputs": [],
   "source": [
    "    def check_guess(self, guess, word):\n",
    "        word_list = list(word)\n",
    "        result = [\"_\"] * len(word)\n",
    "\n",
    "        # check for exact matches chars\n",
    "        for i, l in enumerate(guess):\n",
    "            if l == word_list[i]:\n",
    "                result[i] = \"X\"\n",
    "                word_list[i] = \" \"\n",
    "\n",
    "        # check for chars are wrong position\n",
    "        for i, l in enumerate(guess):\n",
    "            if l in word_list:\n",
    "                if result[i] != \"X\":\n",
    "                    result[i] = \"O\"\n",
    "                    word_list[word_list.index(l)] = \" \""
   ]
  },
  {
   "cell_type": "code",
   "execution_count": 21,
   "id": "daa66ea9",
   "metadata": {},
   "outputs": [
    {
     "name": "stdout",
     "output_type": "stream",
     "text": [
      "_XX__\n",
      "XXX__\n",
      "XXX__\n",
      "That's not a 5-letter word!\n",
      "That's not a real word!\n",
      "XXX__\n",
      "XXX__\n",
      "You lost!\n",
      "The word was: trash\n"
     ]
    }
   ],
   "source": [
    "from random import choice\n",
    "\n",
    "def word_list():\n",
    "    \"\"\"\n",
    "    opens file '5_letter_words.txt' and returns it as a list\n",
    "    \"\"\"\n",
    "    with open('5_letter_words.txt', 'r') as words2:\n",
    "        words = [line.rstrip('\\n') for line in words2]\n",
    "    return words\n",
    "\n",
    "def random_word(word_list):\n",
    "    \"\"\"\n",
    "    returns a random word from the given list\n",
    "    \"\"\"    \n",
    "    return choice(word_list)\n",
    "\n",
    "def is_real_word(guess, word_list):\n",
    "    \"\"\"\n",
    "    checks whether guess is in word_list\n",
    "    \"\"\"\n",
    "    return bool(guess in word_list)\n",
    "\n",
    "#def check_guess(guess, answer):\n",
    " #   \"\"\"\n",
    "  #  compares guess and answer and returns score in respect to guess:\n",
    "   # x = letter in place\n",
    "    #o = letter in wrong position\n",
    "#    _ = no such letter in answer\n",
    " #   \"\"\"\n",
    "  #  score = []\n",
    "   # to_check = [True]*5\n",
    "    #for i in range(5):\n",
    "     #   if guess[i] == answer[i]:\n",
    "      #      score.append('X')\n",
    "       #     to_check[i] = False\n",
    "        #    continue\n",
    "        #for j in range(5):\n",
    "          #  if to_check[j] and guess[i] == answer[j]:\n",
    "         #       to_check[j] = False\n",
    "        #        score.append('O')\n",
    "       #         break\n",
    "      #  else:\n",
    "     #       score.append('_')\n",
    "    #return ''.join(score)\n",
    "\n",
    "\n",
    "def check_guess(guess, word):\n",
    "    \"\"\"\n",
    "    the official implementation of guess evaluation\n",
    "    \"\"\"\n",
    "    word_list = list(word)\n",
    "    result = [\"_\"] * len(word)\n",
    "\n",
    "    # check for exact matches chars\n",
    "    for i, l in enumerate(guess):\n",
    "        if l == word_list[i]:\n",
    "            result[i] = \"X\"\n",
    "            word_list[i] = \" \"\n",
    "\n",
    "    # check for chars are wrong position\n",
    "    for i, l in enumerate(guess):\n",
    "        if l in word_list:\n",
    "            if result[i] != \"X\":\n",
    "                result[i] = \"O\"\n",
    "                word_list[word_list.index(l)] = \" \"\n",
    "    \n",
    "    return ''.join(result)\n",
    "\n",
    "def next_guess(word_list):\n",
    "    \"\"\"\n",
    "    returns lowercase input if it is a 5-letter word from the word_list\n",
    "    \"\"\"\n",
    "    while True:\n",
    "        guess = input('Please enter a guess: ').lower()\n",
    "        if not(guess.isalpha() and len(guess) == 5):\n",
    "            print('That\\'s not a 5-letter word!')\n",
    "        elif not is_real_word(guess, word_list):\n",
    "            print('That\\'s not a real word!')\n",
    "        else:\n",
    "            return guess\n",
    "\n",
    "\n",
    "\n",
    "def play():\n",
    "    \"\"\"\n",
    "    game of Wordle based on '5_letter_words.txt' word list\n",
    "    \"\"\"\n",
    "    words = word_list()\n",
    "    answer = random_word(words)\n",
    "    for i in range(5):\n",
    "        guess = next_guess(words)\n",
    "        score = check_guess(guess, answer)\n",
    "        print(score)\n",
    "        if score == 'XXXXX':\n",
    "            print('You won!')\n",
    "            return\n",
    "    print('You lost!')\n",
    "    print('The word was:', answer)\n",
    "    return\n",
    "\n",
    "play()"
   ]
  },
  {
   "cell_type": "code",
   "execution_count": 11,
   "id": "e2577d5b",
   "metadata": {},
   "outputs": [
    {
     "name": "stdout",
     "output_type": "stream",
     "text": [
      "True\n",
      "[4, 3, 2, 1, 0]\n"
     ]
    }
   ],
   "source": [
    "print(\"a\" > \"1\")\n",
    "list1=list((range(5)))\n",
    "list2=list1[::-1]\n",
    "print(list2)"
   ]
  },
  {
   "cell_type": "code",
   "execution_count": 15,
   "id": "2a2bd16f",
   "metadata": {},
   "outputs": [
    {
     "name": "stdout",
     "output_type": "stream",
     "text": [
      "['a,', 'b,', 'c0']\n"
     ]
    }
   ],
   "source": [
    "print(\"a, b, c0\".split())"
   ]
  },
  {
   "cell_type": "code",
   "execution_count": 16,
   "id": "2452a422",
   "metadata": {},
   "outputs": [
    {
     "name": "stdout",
     "output_type": "stream",
     "text": [
      "24\n"
     ]
    }
   ],
   "source": [
    "def f1(x=2, y=3):\n",
    "    return x*y\n",
    "\n",
    "print(f1(8))"
   ]
  },
  {
   "cell_type": "code",
   "execution_count": null,
   "id": "815064d7",
   "metadata": {},
   "outputs": [],
   "source": []
  }
 ],
 "metadata": {
  "interpreter": {
   "hash": "916dbcbb3f70747c44a77c7bcd40155683ae19c65e1c03b4aa3499c5328201f1"
  },
  "kernelspec": {
   "display_name": "Python 3.8.13 64-bit",
   "language": "python",
   "name": "python3"
  },
  "language_info": {
   "codemirror_mode": {
    "name": "ipython",
    "version": 3
   },
   "file_extension": ".py",
   "mimetype": "text/x-python",
   "name": "python",
   "nbconvert_exporter": "python",
   "pygments_lexer": "ipython3",
   "version": "3.8.10"
  }
 },
 "nbformat": 4,
 "nbformat_minor": 5
}
